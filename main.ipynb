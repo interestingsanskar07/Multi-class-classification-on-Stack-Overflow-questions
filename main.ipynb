{
  "nbformat": 4,
  "nbformat_minor": 0,
  "metadata": {
    "colab": {
      "name": "main.ipynb",
      "provenance": [],
      "collapsed_sections": [],
      "authorship_tag": "ABX9TyNH0N29O0ahQl/y9ws2kvKZ",
      "include_colab_link": true
    },
    "kernelspec": {
      "name": "python3",
      "display_name": "Python 3"
    },
    "language_info": {
      "name": "python"
    }
  },
  "cells": [
    {
      "cell_type": "markdown",
      "metadata": {
        "id": "view-in-github",
        "colab_type": "text"
      },
      "source": [
        "<a href=\"https://colab.research.google.com/github/interestingsanskar07/Multi-class-classification-on-Stack-Overflow-questions/blob/main/main.ipynb\" target=\"_parent\"><img src=\"https://colab.research.google.com/assets/colab-badge.svg\" alt=\"Open In Colab\"/></a>"
      ]
    },
    {
      "cell_type": "markdown",
      "source": [
        "# Exercise: **multi-class classification on Stack Overflow questions**"
      ],
      "metadata": {
        "id": "ujGT5MfHq6Zg"
      }
    },
    {
      "cell_type": "code",
      "source": [
        "import matplotlib.pyplot as plt\n",
        "import os\n",
        "import re\n",
        "import shutil\n",
        "import string\n",
        "import tensorflow as tf\n",
        "\n",
        "from tensorflow.keras import layers\n",
        "from tensorflow.keras import losses"
      ],
      "metadata": {
        "id": "PUuC2eABU0kV"
      },
      "execution_count": null,
      "outputs": []
    },
    {
      "cell_type": "code",
      "source": [
        "url = \"https://storage.googleapis.com/download.tensorflow.org/data/stack_overflow_16k.tar.gz\"\n",
        "\n",
        "dataset = tf.keras.utils.get_file(\"stack_overflow_16k_v1\", url,\n",
        "                                    untar=True, cache_dir='stack_overflow',\n",
        "                                    cache_subdir='.')\n",
        "dataset_dir = os.path.join(os.path.dirname(dataset))"
      ],
      "metadata": {
        "id": "xCaATl8SU0m_"
      },
      "execution_count": null,
      "outputs": []
    },
    {
      "cell_type": "code",
      "source": [
        "os.listdir(dataset_dir)"
      ],
      "metadata": {
        "colab": {
          "base_uri": "https://localhost:8080/"
        },
        "id": "7qKJE8kYU0pu",
        "outputId": "2145caf8-8407-4cac-c7c3-8c8731ef218d"
      },
      "execution_count": null,
      "outputs": [
        {
          "output_type": "execute_result",
          "data": {
            "text/plain": [
              "['stack_overflow_16k_v1.tar.gz', 'test', 'README.md', 'train']"
            ]
          },
          "metadata": {},
          "execution_count": 20
        }
      ]
    },
    {
      "cell_type": "code",
      "source": [
        "train_dir = os.path.join(dataset_dir, 'train')\n",
        "os.listdir(train_dir)"
      ],
      "metadata": {
        "colab": {
          "base_uri": "https://localhost:8080/"
        },
        "id": "OBGTC6BvU0sa",
        "outputId": "f44cee0b-3dd0-4d18-e766-cd93f4052bd2"
      },
      "execution_count": null,
      "outputs": [
        {
          "output_type": "execute_result",
          "data": {
            "text/plain": [
              "['csharp', 'python', 'java', 'javascript']"
            ]
          },
          "metadata": {},
          "execution_count": 14
        }
      ]
    },
    {
      "cell_type": "code",
      "source": [
        "sample_file = os.path.join(train_dir, 'python/118.txt')\n",
        "with open(sample_file) as f:\n",
        "  print(f.read())"
      ],
      "metadata": {
        "colab": {
          "base_uri": "https://localhost:8080/"
        },
        "id": "-2mU-y4oU0wB",
        "outputId": "c9b3bcaa-65ac-42e5-dc92-8f81f95d96ff"
      },
      "execution_count": null,
      "outputs": [
        {
          "output_type": "stream",
          "name": "stdout",
          "text": [
            "\"what's the correct way to change a value that is imported by other modules? i have my entry point script take a cli option argument using argsparser and that looks something like this:..    import some_module..    if __name__== \"\"__main__\"\":.        parser = argparse.argumentparser(description='nemo node.').        parser.add_argument('-t', '--test', dest='testing', action=\"\"store_true\"\")..        # handle cli params and options.        # .......        some_module.run()...i want the -t option to change a parameter testing in a config script settings.py, since my some_module uses things like :..from settings import testing.if testing:.   # do some testing stuff...because of this testing is already imported into some_module by the time i handle the args, changes to settings.py can no longer have any effect on some_module..my answer is what's the correct practice in dealing with this:...import some_module inside the __main__ after the args have been parsed?.replace testing by settings.testing everywhere?.something else?\"\n",
            "\n"
          ]
        }
      ]
    },
    {
      "cell_type": "code",
      "source": [
        "batch_size = 32\n",
        "seed = 42\n",
        "\n",
        "raw_train_ds = tf.keras.utils.text_dataset_from_directory(\n",
        "    train_dir, \n",
        "    batch_size=batch_size, \n",
        "    validation_split=0.2, \n",
        "    subset='training', \n",
        "    seed=seed)"
      ],
      "metadata": {
        "colab": {
          "base_uri": "https://localhost:8080/"
        },
        "id": "fCJS4WZtU0yr",
        "outputId": "a683073a-0ca7-4438-9ac6-b00a8b993986"
      },
      "execution_count": null,
      "outputs": [
        {
          "output_type": "stream",
          "name": "stdout",
          "text": [
            "Found 8000 files belonging to 4 classes.\n",
            "Using 6400 files for training.\n"
          ]
        }
      ]
    },
    {
      "cell_type": "code",
      "source": [
        "raw_val_ds = tf.keras.preprocessing.text_dataset_from_directory(\n",
        "    train_dir,\n",
        "    batch_size = batch_size,\n",
        "    validation_split=0.2,\n",
        "    subset='validation',\n",
        "    seed = seed\n",
        ")"
      ],
      "metadata": {
        "colab": {
          "base_uri": "https://localhost:8080/"
        },
        "id": "wV1BtpYvfkuX",
        "outputId": "4385a2ac-c72f-4965-a93b-e61ab47949bd"
      },
      "execution_count": null,
      "outputs": [
        {
          "output_type": "stream",
          "name": "stdout",
          "text": [
            "Found 8000 files belonging to 4 classes.\n",
            "Using 1600 files for validation.\n"
          ]
        }
      ]
    },
    {
      "cell_type": "code",
      "source": [
        "for text_batch, label_batch in raw_train_ds.take(1):\n",
        "    for i in range(10):\n",
        "        print(\"Question: \", text_batch.numpy()[i])\n",
        "        print(\"Label:\", label_batch.numpy()[i])"
      ],
      "metadata": {
        "colab": {
          "base_uri": "https://localhost:8080/"
        },
        "id": "CHQgEizoqgTh",
        "outputId": "00923ea6-38b9-4f92-8196-5ab34d2e9e11"
      },
      "execution_count": null,
      "outputs": [
        {
          "output_type": "stream",
          "name": "stdout",
          "text": [
            "Question:  b'\"language change with keydown event on all form i develop an application that can change language between english and hungarian. this software work with .resx files and when the user presses f2 the labels, buttons, and other controls their text properties will be changed from the .resx file. ..it\\'s ok, but when i have more than one form open, naturally the keydown event changes those controls that are in the focused form. so my question is: how can i capture the f2 keystroke in all opened forms?\"\\n'\n",
            "Label: 0\n",
            "Question:  b'bubble sort without using temporary variable i want to sort both 1 dimensional and 2 dimensional array without using temp variable in blank..how to do it can anyone suggest\\n'\n",
            "Label: 1\n",
            "Question:  b'\"declaring array as public in main and accessing it in other class i want to know how to create/declare the array as public in main class and then access it in other class. the few lines of code of my programs are: ..main class..import blank.util.*; .import blank.lang.*; ..public class enc2ktest .{   .  public static int[] msgarray = {14555256, 78925654, 76543878, 65432567, 76175544}; ..  public static void main(string ar[]) .  { .    --------- .    --------- .  } .} ...other class accessing array..import blank.util.*; .import blank.lang.*; ..public class inter1 .{   .  public static void main(string ar[]) .  { .    enc2ktest e2k = new enc2ktest(); .    system.out.println(\"\"\"\"); .    for(int i = 0; i &lt; e2k.msgarray.length; i++ ) .    { .      system.out.print(\"\" | \"\"); .      system.out.print(e2k.msgarray[i]); .    } .  } .} ...but it displays the results as zero\\'s. why is that?..output:..| 0 | 0 | 0 | 0 | 0 | 0 | 0 | 0 | 0 | 0 | 0 | 0 | 0 | 0 | 0 | 0 | 0 | 0 | 0 | 0 | 0 | 0 | 0 | 0 | 0\"\\n'\n",
            "Label: 1\n",
            "Question:  b'\"blank users can put any keybind on ther wish am try to implement one function when somebody bin ex: f4 in main menu that when he press f4 activates someting. but am wanna all keybind to be avalible that he can chosse like:..open inventory:..ex: setyoukeybindhere and then the users puts own key and its working command what am set underthat variable...hope that you understand what am try to say...edit: if(input.getkeydown(keycode.home)) like this but only where is going keycode. should the users pickup...also am need example how to do it, its visualstudio for calling mainmenu drawing but am wanna to allow users that they set any bind what they wanna.\"\\n'\n",
            "Label: 0\n",
            "Question:  b'\"plotting a tuple in blank in blank, what is the syntax that will let me plot a tuple such as..t = [(9,2,5),(3,6,4),(2,8,4)]...i am having trouble since there are three elements in each combination.\"\\n'\n",
            "Label: 3\n",
            "Question:  b'\"listener for incoming messages i am currently trying to create a chat application using the socket and serversocket classes, but i kinda ran into a roadblock. i need some kind of listener to execute a certain block of code when a message is incoming from the server or the client, but i can\\'t seem to find one. an option would of course be to just check for incoming messages every 10 ms or something, but isn\\'t there a smarter solution?\"\\n'\n",
            "Label: 1\n",
            "Question:  b'\"multiple equal testing for arbitrary length of a list[str] to solve longestcommonprefix i am working on longest common prefix - leetcode...  write a function to find the longest common prefix string amongst an array of strings..  .  if there is no common prefix, return an empty string \"\"\"\"..  .  example 1:.  .  input: [\"\"flower\"\",\"\"flow\"\",\"\"flight\"\"].output: \"\"fl\"\"..  .  example 2:.  .  input: [\"\"dog\"\",\"\"racecar\"\",\"\"car\"\"].explanation: there is no common prefix among the input strings...  .  note:.  .  all given inputs are in lowercase letters a-z...i design such a solution..def longestcommonprefix(self, strs: list[str]) -&gt; str:.    res = \\'\\'.    #base case 1.    if len(strs) &lt; 1: return res.    size = min(len(s) for s in strs).    #base case 2 one of them is empty .    if size &lt; 1: return res ..    #iteration case .    for i in range(size):.        if strs[0][i] == strs[1][i] == str[2][i]:.            res += strs[0][i].        else: break ...if if strs[0][i] == strs[1][i] == strs[2][i]: add the element to res ..however, in my solution,the length of strs is fixed as three, the given condition is a arbitrary length of strs..how could write such an expression like ..            if strs[0][i] == strs[1][i] == str[s2][i] ....strs[length-1][i]:...for else solution: ..    #iteration case .    for i in range(size):.        prefix = strs[0][i].        for j in range(1, len(strs)): #check the chain equal .            if strs[j][i] != prefix: break .        else:.            res += prefix..    return res\"\\n'\n",
            "Label: 3\n",
            "Question:  b'\"accessing variables in other windows form class blank i want to push my var selecteddate  from frmmain so it can use in  frmevent. ..the var will make a label in frmevent that var value. here is my code:..private void monthcalendar1_selecteddate(object sender, daterangeeventargs e).    {.        var selecteddate = (datetime.parse(e.start.toshortdatestring())).day;.        frmevent frme = new frmevent();.        frme.show();.    }\"\\n'\n",
            "Label: 0\n",
            "Question:  b'\"blank multiline textbox to .txt file i\\'m definitely using the wrong method. actually i\\'m trying to convert from java to blank and it\\'s beginning to become tough ....anyway, i have a textbox1 that is multiline, i write to it by for looping an arraylist...the textbox1 looks like this:..website: https://google.dk.firmanavn: google llc.email: google@gmail.com.cvr: 123456.gscore: 1.glink: googlepagespeedlink...the code that i use right now, which manages to create a file, but it ends up empty. i am surely doing something wrong, and i\\'m unsure how to write the textbox to the file...private void button3_click(object sender, eventargs e).    {.        stream mystream;.        savefiledialog savefiledialog1 = new savefiledialog();..        savefiledialog1.filter = \"\"txt files (*.txt)|\"\";.        savefiledialog1.filterindex = 2;.        savefiledialog1.restoredirectory = true;...        if (savefiledialog1.showdialog() == dialogresult.ok).        {.            string path = path.getfullpath(savefiledialog1.filename);..            path = dialogresult.tostring();.            if ((mystream = savefiledialog1.openfile()) != null).            { ..                file.writealltext(path, textbox1.text);..                mystream.close();.            }.        }.    }...any help appreciated... :3 :3 i searched for around 1\\xc2\\xbd hours on stackoverflow but i didn\\'t manage to see a sample that would match my way of code :3..i hope it\\'s not a duplicate question, thanks a lot for your answers :)\"\\n'\n",
            "Label: 0\n",
            "Question:  b'\"smtp client , should my customers change it for their own? i am sending an email like this from my console app, the value for subject, smtp, etc.. as you see in the code are configurable from the app.config file so customer can type their own...     smtpclient client = new smtpclient(configurationmanager.appsettings[\"\"smtphost\"\"]);.     client.port = convert.toint32(configurationmanager.appsettings[\"\"smtpport\"\"]);.     client.deliverymethod = smtpdeliverymethod.network;.     client.send(message);...i entered my own smtp, port, etc.. info in the config file when i tested the application. now that the customer wants to run it, do they have to type their own port, smtp, etc.. or still can use what i have typed there and just change the recipientaddresses? ..note: it doesn\\'t have to be an email address that they can actually reply to. the program just needs to send a report after running to their real email address. it doesn\\'t matter if the sender email address is real or not.\"\\n'\n",
            "Label: 0\n"
          ]
        }
      ]
    },
    {
      "cell_type": "code",
      "source": [
        "for i, label in enumerate(raw_train_ds.class_names):\n",
        "  print(\"Label\", i, \"corresponds to\", label)"
      ],
      "metadata": {
        "colab": {
          "base_uri": "https://localhost:8080/"
        },
        "id": "pK5mCHnKU01e",
        "outputId": "90d86c48-c797-448f-bb90-381ed7ddaa13"
      },
      "execution_count": null,
      "outputs": [
        {
          "output_type": "stream",
          "name": "stdout",
          "text": [
            "Label 0 corresponds to csharp\n",
            "Label 1 corresponds to java\n",
            "Label 2 corresponds to javascript\n",
            "Label 3 corresponds to python\n"
          ]
        }
      ]
    },
    {
      "cell_type": "code",
      "source": [
        "raw_test_ds = tf.keras.utils.text_dataset_from_directory(\n",
        "    'test', \n",
        "    batch_size=batch_size)"
      ],
      "metadata": {
        "colab": {
          "base_uri": "https://localhost:8080/"
        },
        "id": "MB-pqjwQg0fC",
        "outputId": "21cd829f-74ed-4931-b4da-b400d364eaad"
      },
      "execution_count": null,
      "outputs": [
        {
          "output_type": "stream",
          "name": "stdout",
          "text": [
            "Found 8000 files belonging to 4 classes.\n"
          ]
        }
      ]
    },
    {
      "cell_type": "code",
      "source": [
        "def custom_standardization(input_data):\n",
        "  lowercase = tf.strings.lower(input_data)\n",
        "  stripped_html = tf.strings.regex_replace(lowercase, '<br />', ' ')\n",
        "  return tf.strings.regex_replace(stripped_html,\n",
        "                                  '[%s]' % re.escape(string.punctuation),\n",
        "                                  '')"
      ],
      "metadata": {
        "id": "yf1WN38ogviO"
      },
      "execution_count": null,
      "outputs": []
    },
    {
      "cell_type": "code",
      "source": [
        "max_size_vocab = 10000\n",
        "max_sequence_length = 250\n",
        "binary_vectorize_layer = layers.TextVectorization(\n",
        "    max_tokens=max_size_vocab,\n",
        "    output_mode='binary')"
      ],
      "metadata": {
        "id": "_A2pnKS9U07A"
      },
      "execution_count": null,
      "outputs": []
    },
    {
      "cell_type": "code",
      "source": [
        "int_vectorize_layer = layers.TextVectorization(\n",
        "  max_tokens=max_size_vocab,\n",
        "  output_mode='int',\n",
        "  output_sequence_length=max_sequence_length)"
      ],
      "metadata": {
        "id": "UNRrnBR9U09v"
      },
      "execution_count": null,
      "outputs": []
    },
    {
      "cell_type": "code",
      "source": [
        "# Make a text-only dataset (without labels), then call adapt\n",
        "train_text = raw_train_ds.map(lambda text, labels: text)\n",
        "binary_vectorize_layer.adapt(train_text)\n",
        "int_vectorize_layer.adapt(train_text)"
      ],
      "metadata": {
        "id": "7GG8Uvc5U1AV"
      },
      "execution_count": null,
      "outputs": []
    },
    {
      "cell_type": "code",
      "source": [
        "def binary_vectorize_text(text, label):\n",
        "  text = tf.expand_dims(text, -1)\n",
        "  return binary_vectorize_layer(text), label\n",
        "def int_vectorize_text(text, label):\n",
        "  text = tf.expand_dims(text, -1)\n",
        "  return int_vectorize_layer(text), label"
      ],
      "metadata": {
        "id": "aVyTQGmKU1Ct"
      },
      "execution_count": null,
      "outputs": []
    },
    {
      "cell_type": "code",
      "source": [
        "binary_train_ds = raw_train_ds.map(binary_vectorize_text)\n",
        "binary_val_ds = raw_val_ds.map(binary_vectorize_text)\n",
        "binary_test_ds = raw_test_ds.map(binary_vectorize_text)\n",
        "int_train_ds = raw_train_ds.map(int_vectorize_text)\n",
        "int_val_ds = raw_val_ds.map(int_vectorize_text)\n",
        "int_test_ds = raw_test_ds.map(int_vectorize_text)"
      ],
      "metadata": {
        "id": "e_GimOQRU1FI"
      },
      "execution_count": null,
      "outputs": []
    },
    {
      "cell_type": "code",
      "source": [
        "AUTOTUNE = tf.data.AUTOTUNE\n",
        "def configure_dataset(dataset):\n",
        "  return dataset.cache().prefetch(buffer_size=AUTOTUNE)"
      ],
      "metadata": {
        "id": "Nisto81ZU1H8"
      },
      "execution_count": null,
      "outputs": []
    },
    {
      "cell_type": "code",
      "source": [
        "binary_train_ds = configure_dataset(binary_train_ds)\n",
        "binary_val_ds = configure_dataset(binary_val_ds)\n",
        "binary_test_ds = configure_dataset(binary_test_ds)\n",
        "int_train_ds = configure_dataset(int_train_ds)\n",
        "int_val_ds = configure_dataset(int_val_ds)\n",
        "int_test_ds = configure_dataset(int_test_ds)\n"
      ],
      "metadata": {
        "id": "hmZmUWcRU1NB"
      },
      "execution_count": null,
      "outputs": []
    },
    {
      "cell_type": "code",
      "source": [
        "from tensorflow.python.ops.control_flow_ops import from_control_flow_context_def\n",
        "binary_model = tf.keras.Sequential([layers.Dense(4)])\n",
        "\n",
        "binary_model.compile(\n",
        "    loss=losses.SparseCategoricalCrossentropy(from_logits=True),optimizer='adam',metrics=['accuracy']\n",
        ")\n",
        "\n",
        "history = binary_model.fit(\n",
        "    binary_train_ds,validation_data=binary_val_ds, epochs=10\n",
        ")"
      ],
      "metadata": {
        "colab": {
          "base_uri": "https://localhost:8080/"
        },
        "id": "XwBdHTC8jowi",
        "outputId": "ae64ed69-6468-49ff-fadb-4c44af50d48f"
      },
      "execution_count": null,
      "outputs": [
        {
          "output_type": "stream",
          "name": "stdout",
          "text": [
            "Epoch 1/10\n",
            "200/200 [==============================] - 4s 15ms/step - loss: 1.1228 - accuracy: 0.6458 - val_loss: 0.9146 - val_accuracy: 0.7763\n",
            "Epoch 2/10\n",
            "200/200 [==============================] - 1s 4ms/step - loss: 0.7795 - accuracy: 0.8205 - val_loss: 0.7499 - val_accuracy: 0.7975\n",
            "Epoch 3/10\n",
            "200/200 [==============================] - 1s 4ms/step - loss: 0.6277 - accuracy: 0.8611 - val_loss: 0.6641 - val_accuracy: 0.8144\n",
            "Epoch 4/10\n",
            "200/200 [==============================] - 1s 4ms/step - loss: 0.5342 - accuracy: 0.8861 - val_loss: 0.6106 - val_accuracy: 0.8225\n",
            "Epoch 5/10\n",
            "200/200 [==============================] - 1s 4ms/step - loss: 0.4681 - accuracy: 0.9055 - val_loss: 0.5739 - val_accuracy: 0.8306\n",
            "Epoch 6/10\n",
            "200/200 [==============================] - 1s 3ms/step - loss: 0.4178 - accuracy: 0.9169 - val_loss: 0.5472 - val_accuracy: 0.8331\n",
            "Epoch 7/10\n",
            "200/200 [==============================] - 1s 4ms/step - loss: 0.3776 - accuracy: 0.9275 - val_loss: 0.5271 - val_accuracy: 0.8375\n",
            "Epoch 8/10\n",
            "200/200 [==============================] - 1s 4ms/step - loss: 0.3443 - accuracy: 0.9367 - val_loss: 0.5115 - val_accuracy: 0.8406\n",
            "Epoch 9/10\n",
            "200/200 [==============================] - 1s 4ms/step - loss: 0.3161 - accuracy: 0.9425 - val_loss: 0.4992 - val_accuracy: 0.8406\n",
            "Epoch 10/10\n",
            "200/200 [==============================] - 1s 4ms/step - loss: 0.2918 - accuracy: 0.9497 - val_loss: 0.4895 - val_accuracy: 0.8450\n"
          ]
        }
      ]
    },
    {
      "cell_type": "code",
      "source": [
        "# Creating a plot of accuracy and loss over time\n",
        "history_dict = history.history\n",
        "acc = history_dict['accuracy']\n",
        "val_acc = history_dict['val_accuracy']\n",
        "loss = history_dict['loss']\n",
        "val_loss = history_dict['val_loss']\n",
        "epochs = range(1, len(acc) + 1)"
      ],
      "metadata": {
        "id": "ZX8yUp6Bjoz3"
      },
      "execution_count": null,
      "outputs": []
    },
    {
      "cell_type": "code",
      "source": [
        "\n",
        "# \"bo\" is for \"blue dot\"\n",
        "plt.plot(epochs, loss, 'bo', label='Training loss')\n",
        "# b is for \"solid blue line\"\n",
        "plt.plot(epochs, val_loss, 'b', label='Validation loss')\n",
        "plt.title('Training and validation loss')\n",
        "plt.xlabel('Epochs')\n",
        "plt.ylabel('Loss')\n",
        "plt.legend()\n",
        "plt.show()"
      ],
      "metadata": {
        "colab": {
          "base_uri": "https://localhost:8080/",
          "height": 295
        },
        "id": "BmJkAXTIjo4E",
        "outputId": "53491c41-eacc-4804-c591-22085c3ae757"
      },
      "execution_count": null,
      "outputs": [
        {
          "output_type": "display_data",
          "data": {
            "text/plain": [
              "<Figure size 432x288 with 1 Axes>"
            ],
            "image/png": "[encoded data removed]"
          },
          "metadata": {
            "needs_background": "light"
          }
        }
      ]
    },
    {
      "cell_type": "code",
      "source": [
        "plt.plot(epochs, acc, 'bo', label='Training acc')\n",
        "plt.plot(epochs, val_acc, 'b', label='Validation acc')\n",
        "plt.title('Training and validation accuracy')\n",
        "plt.xlabel('Epochs')\n",
        "plt.ylabel('Accuracy')\n",
        "plt.legend(loc='lower right')\n",
        "\n",
        "plt.show()"
      ],
      "metadata": {
        "colab": {
          "base_uri": "https://localhost:8080/",
          "height": 295
        },
        "id": "8rRHbPJVjo7u",
        "outputId": "c6f97c40-9402-4fc3-c92a-e80ff0ec4e37"
      },
      "execution_count": null,
      "outputs": [
        {
          "output_type": "display_data",
          "data": {
            "text/plain": [
              "<Figure size 432x288 with 1 Axes>"
            ],
            "image/png": "[encoded data removed]"
          },
          "metadata": {
            "needs_background": "light"
          }
        }
      ]
    },
    {
      "cell_type": "code",
      "source": [
        "def create_model(vocab_size, num_labels):\n",
        "  model = tf.keras.Sequential([\n",
        "    layers.Embedding(vocab_size, 64, mask_zero=True),\n",
        "    layers.Conv1D(64, 5, padding=\"valid\", activation=\"relu\", strides=2),\n",
        "    layers.GlobalMaxPooling1D(),\n",
        "    layers.Dense(num_labels)\n",
        "    ])\n",
        "  return model"
      ],
      "metadata": {
        "id": "Qu4mYP0YjpAa"
      },
      "execution_count": null,
      "outputs": []
    },
    {
      "cell_type": "code",
      "source": [
        "\n",
        "\n",
        "int_model = create_model(vocab_size=max_size_vocab + 1, num_labels=4)\n",
        "int_model.compile(\n",
        "  loss=losses.SparseCategoricalCrossentropy(from_logits=True),\n",
        "  optimizer='adam',\n",
        "  metrics=['accuracy'])\n",
        "history = int_model.fit(int_train_ds, validation_data=int_val_ds,epochs=5)"
      ],
      "metadata": {
        "colab": {
          "base_uri": "https://localhost:8080/"
        },
        "id": "VXk-We5OjpFE",
        "outputId": "d9dcfbd4-305e-41b9-d5a6-2b5ad374d7eb"
      },
      "execution_count": null,
      "outputs": [
        {
          "output_type": "stream",
          "name": "stdout",
          "text": [
            "Epoch 1/5\n",
            "200/200 [==============================] - 8s 37ms/step - loss: 1.1353 - accuracy: 0.5141 - val_loss: 0.7624 - val_accuracy: 0.6950\n",
            "Epoch 2/5\n",
            "200/200 [==============================] - 5s 27ms/step - loss: 0.6174 - accuracy: 0.7606 - val_loss: 0.5421 - val_accuracy: 0.7919\n",
            "Epoch 3/5\n",
            "200/200 [==============================] - 7s 34ms/step - loss: 0.3787 - accuracy: 0.8786 - val_loss: 0.4822 - val_accuracy: 0.8219\n",
            "Epoch 4/5\n",
            "200/200 [==============================] - 5s 27ms/step - loss: 0.2152 - accuracy: 0.9488 - val_loss: 0.4798 - val_accuracy: 0.8194\n",
            "Epoch 5/5\n",
            "200/200 [==============================] - 5s 27ms/step - loss: 0.1096 - accuracy: 0.9805 - val_loss: 0.5044 - val_accuracy: 0.8175\n"
          ]
        }
      ]
    },
    {
      "cell_type": "code",
      "source": [
        "# Creating a plot of accuracy and loss over time\n",
        "history_dict = history.history\n",
        "acc = history_dict['accuracy']\n",
        "val_acc = history_dict['val_accuracy']\n",
        "loss = history_dict['loss']\n",
        "val_loss = history_dict['val_loss']\n",
        "epochs = range(1, len(acc) + 1)\n",
        "# \"bo\" is for \"blue dot\"\n",
        "plt.plot(epochs, loss, 'bo', label='Training loss')\n",
        "# b is for \"solid blue line\"\n",
        "plt.plot(epochs, val_loss, 'b', label='Validation loss')\n",
        "plt.title('Training and validation loss')\n",
        "plt.xlabel('Epochs')\n",
        "plt.ylabel('Loss')\n",
        "plt.legend()\n",
        "plt.show()"
      ],
      "metadata": {
        "colab": {
          "base_uri": "https://localhost:8080/",
          "height": 295
        },
        "id": "tndIKy15jpKC",
        "outputId": "69a2278f-5784-45ce-ce34-59bad455cfcd"
      },
      "execution_count": null,
      "outputs": [
        {
          "output_type": "display_data",
          "data": {
            "text/plain": [
              "<Figure size 432x288 with 1 Axes>"
            ],
            "image/png": "[encoded data removed]"
          },
          "metadata": {
            "needs_background": "light"
          }
        }
      ]
    },
    {
      "cell_type": "code",
      "source": [
        "plt.plot(epochs, acc, 'bo', label='Training acc')\n",
        "plt.plot(epochs, val_acc, 'b', label='Validation acc')\n",
        "plt.title('Training and validation accuracy')\n",
        "plt.xlabel('Epochs')\n",
        "plt.ylabel('Accuracy')\n",
        "plt.legend(loc='lower right')\n",
        "\n",
        "plt.show()"
      ],
      "metadata": {
        "colab": {
          "base_uri": "https://localhost:8080/",
          "height": 295
        },
        "id": "arnjMbGvjpO8",
        "outputId": "9acfea69-78cd-4c9b-827c-48dd334b5e45"
      },
      "execution_count": null,
      "outputs": [
        {
          "output_type": "display_data",
          "data": {
            "text/plain": [
              "<Figure size 432x288 with 1 Axes>"
            ],
            "image/png": "[encoded data removed]"
          },
          "metadata": {
            "needs_background": "light"
          }
        }
      ]
    },
    {
      "cell_type": "code",
      "source": [
        "print(\"Linear model on binary vectorized data:\")\n",
        "print(binary_model.summary())"
      ],
      "metadata": {
        "colab": {
          "base_uri": "https://localhost:8080/"
        },
        "id": "I6HXKtKJnmNE",
        "outputId": "f5d2410f-9f2a-47d7-fc16-0d37961266f6"
      },
      "execution_count": null,
      "outputs": [
        {
          "output_type": "stream",
          "name": "stdout",
          "text": [
            "Linear model on binary vectorized data:\n",
            "Model: \"sequential\"\n",
            "_________________________________________________________________\n",
            " Layer (type)                Output Shape              Param #   \n",
            "=================================================================\n",
            " dense (Dense)               (None, 4)                 40004     \n",
            "                                                                 \n",
            "=================================================================\n",
            "Total params: 40,004\n",
            "Trainable params: 40,004\n",
            "Non-trainable params: 0\n",
            "_________________________________________________________________\n",
            "None\n"
          ]
        }
      ]
    },
    {
      "cell_type": "code",
      "source": [
        "print(\"Conventional model on integer vectorized data:\")\n",
        "print(int_model.summary())"
      ],
      "metadata": {
        "colab": {
          "base_uri": "https://localhost:8080/"
        },
        "id": "fdeoE9oVnmP9",
        "outputId": "d0cefcc6-ba33-4276-a6d1-01d52dc2ab0e"
      },
      "execution_count": null,
      "outputs": [
        {
          "output_type": "stream",
          "name": "stdout",
          "text": [
            "Conventional model on integer vectorized data:\n",
            "Model: \"sequential_1\"\n",
            "_________________________________________________________________\n",
            " Layer (type)                Output Shape              Param #   \n",
            "=================================================================\n",
            " embedding (Embedding)       (None, None, 64)          640064    \n",
            "                                                                 \n",
            " conv1d (Conv1D)             (None, None, 64)          20544     \n",
            "                                                                 \n",
            " global_max_pooling1d (Globa  (None, 64)               0         \n",
            " lMaxPooling1D)                                                  \n",
            "                                                                 \n",
            " dense_1 (Dense)             (None, 4)                 260       \n",
            "                                                                 \n",
            "=================================================================\n",
            "Total params: 660,868\n",
            "Trainable params: 660,868\n",
            "Non-trainable params: 0\n",
            "_________________________________________________________________\n",
            "None\n"
          ]
        }
      ]
    },
    {
      "cell_type": "code",
      "source": [
        "binary_loss, binary_accuracy = binary_model.evaluate(binary_test_ds)\n",
        "int_loss, int_accuracy, = int_model.evaluate(int_test_ds)\n",
        "print(\"Binary model accuracy : {:2.2%}\".format(binary_accuracy))\n",
        "print(\"Integer model accuracy : {:2.2%}\".format(int_accuracy))"
      ],
      "metadata": {
        "colab": {
          "base_uri": "https://localhost:8080/"
        },
        "id": "S2yE8tm2nmSz",
        "outputId": "a6b29b48-d20b-44df-d931-d20a2ee45064"
      },
      "execution_count": null,
      "outputs": [
        {
          "output_type": "stream",
          "name": "stdout",
          "text": [
            "250/250 [==============================] - 3s 10ms/step - loss: 0.5175 - accuracy: 0.8142\n",
            "250/250 [==============================] - 4s 14ms/step - loss: 0.5239 - accuracy: 0.8049\n",
            "Binary model accuracy : 81.42%\n",
            "Integer model accuracy : 80.49%\n"
          ]
        }
      ]
    },
    {
      "cell_type": "code",
      "source": [
        "export_model = tf.keras.Sequential([\n",
        "  binary_vectorize_layer, binary_model,\n",
        "  layers.Activation('sigmoid')])\n",
        "  \n",
        "export_model.compile(\n",
        "  loss=losses.SparseCategoricalCrossentropy(from_logits=False),optimizer='adam',metrics=['accuracy'])\n",
        "\n",
        "\n",
        "# Test it with `raw_test_ds`, which yields raw strings\n",
        "loss, accuracy = export_model.evaluate(raw_test_ds)\n",
        "print(\"Accuracy: {:2.2%}\".format(binary_accuracy))"
      ],
      "metadata": {
        "colab": {
          "base_uri": "https://localhost:8080/"
        },
        "id": "9nYMO8WbnmVV",
        "outputId": "51e9226f-635e-46c9-fa52-35b07ac4af75"
      },
      "execution_count": null,
      "outputs": [
        {
          "output_type": "stream",
          "name": "stdout",
          "text": [
            "250/250 [==============================] - 3s 11ms/step - loss: 0.5175 - accuracy: 0.8142\n",
            "Accuracy: 81.42%\n"
          ]
        }
      ]
    },
    {
      "cell_type": "code",
      "source": [
        "# Inferencing on new data\n",
        "def get_string_labels(predicted_scores_batch):\n",
        "  predicted_int_labels = tf.argmax(predicted_scores_batch, axis=1)\n",
        "  predicted_labels = tf.gather(raw_train_ds.class_names,\n",
        "                               predicted_int_labels)\n",
        "  return predicted_labels\n",
        "\n",
        "inputs = [\n",
        "       \"how do I extract keys from a dict into a list?\", \n",
        "       \"debug public static void main(string[] args) {...}\",\n",
        "       ]\n",
        "predicted_scores = export_model.predict(inputs)\n",
        "predicted_labels = get_string_labels(predicted_scores)\n",
        "for input, label in zip(inputs, predicted_labels):\n",
        "  print(\"Question: \", input)\n",
        "  print(\"Predicted label: \", label.numpy())"
      ],
      "metadata": {
        "colab": {
          "base_uri": "https://localhost:8080/"
        },
        "id": "qoA3yyRlnmYD",
        "outputId": "65507083-4c1a-4bed-ced0-81146d9006cd"
      },
      "execution_count": null,
      "outputs": [
        {
          "output_type": "stream",
          "name": "stdout",
          "text": [
            "Question:  how do I extract keys from a dict into a list?\n",
            "Predicted label:  b'python'\n",
            "Question:  debug public static void main(string[] args) {...}\n",
            "Predicted label:  b'java'\n"
          ]
        }
      ]
    }
  ]
}